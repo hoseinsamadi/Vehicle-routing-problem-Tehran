{
 "cells": [
  {
   "cell_type": "code",
   "execution_count": 3,
   "id": "62be4c46",
   "metadata": {},
   "outputs": [
    {
     "data": {
      "text/html": [
       "<div>\n",
       "<style scoped>\n",
       "    .dataframe tbody tr th:only-of-type {\n",
       "        vertical-align: middle;\n",
       "    }\n",
       "\n",
       "    .dataframe tbody tr th {\n",
       "        vertical-align: top;\n",
       "    }\n",
       "\n",
       "    .dataframe thead th {\n",
       "        text-align: right;\n",
       "    }\n",
       "</style>\n",
       "<table border=\"1\" class=\"dataframe\">\n",
       "  <thead>\n",
       "    <tr style=\"text-align: right;\">\n",
       "      <th></th>\n",
       "      <th>Latitude</th>\n",
       "      <th>Longitude</th>\n",
       "    </tr>\n",
       "    <tr>\n",
       "      <th>City</th>\n",
       "      <th></th>\n",
       "      <th></th>\n",
       "    </tr>\n",
       "  </thead>\n",
       "  <tbody>\n",
       "    <tr>\n",
       "      <th>Customer1</th>\n",
       "      <td>38.066119</td>\n",
       "      <td>46.298708</td>\n",
       "    </tr>\n",
       "    <tr>\n",
       "      <th>Customer2</th>\n",
       "      <td>38.070592</td>\n",
       "      <td>46.339829</td>\n",
       "    </tr>\n",
       "    <tr>\n",
       "      <th>Customer3</th>\n",
       "      <td>38.079814</td>\n",
       "      <td>46.289940</td>\n",
       "    </tr>\n",
       "    <tr>\n",
       "      <th>Customer4</th>\n",
       "      <td>38.066412</td>\n",
       "      <td>46.365059</td>\n",
       "    </tr>\n",
       "    <tr>\n",
       "      <th>Customer5</th>\n",
       "      <td>38.072917</td>\n",
       "      <td>46.300338</td>\n",
       "    </tr>\n",
       "  </tbody>\n",
       "</table>\n",
       "</div>"
      ],
      "text/plain": [
       "            Latitude  Longitude\n",
       "City                           \n",
       "Customer1  38.066119  46.298708\n",
       "Customer2  38.070592  46.339829\n",
       "Customer3  38.079814  46.289940\n",
       "Customer4  38.066412  46.365059\n",
       "Customer5  38.072917  46.300338"
      ]
     },
     "execution_count": 3,
     "metadata": {},
     "output_type": "execute_result"
    }
   ],
   "source": [
    "import numpy as np\n",
    "import pandas as pd\n",
    "import matplotlib.pyplot as plt\n",
    "%matplotlib inline\n",
    "import seaborn as sn\n",
    "#a handful of sites\n",
    "#sites = ['30000214','30013206','30030524','30033181','30033350','30033458','30033086','30022796','30031162','30025126','30031901','30029639','30025720','30019783','30030663','30008705','30031098','30032767']\n",
    "sites = ['Customer1','Customer2','Customer3','Customer4','Customer5','Customer6','Customer7','Customer8','Customer9','Customer10','Customer11','Customer12','Customer13','Customer14','Customer15','Customer16','Customer17','Customer18']\n",
    "\n",
    "\n",
    "\n",
    "\n",
    "\n",
    "latlng = ['latitude', 'longitude']\n",
    "#position = pd.read_csv('./data/position.csv', index_col=\"City\")\n",
    "position=pd.read_excel(r'C:\\Users\\bazrekar\\pythonclass\\Position.xlsx', index_col=\"City\")\n",
    "#distance = pd.read_csv('./data/distance.csv', index_col=\"City\")\n",
    "distance=pd.read_excel(r'C:\\Users\\bazrekar\\pythonclass\\dis.xlsx', index_col=\"City\")\n",
    "position.head(5)\n",
    "# print(len(sites))\n"
   ]
  },
  {
   "cell_type": "code",
   "execution_count": 4,
   "id": "2bcb4e22",
   "metadata": {},
   "outputs": [],
   "source": [
    "#make some positions (so we can plot this)\n",
    "positions = dict( ( City, (position.loc[City,'Longitude'], position.loc[City,'Latitude']) ) for City in sites)"
   ]
  },
  {
   "cell_type": "code",
   "execution_count": 5,
   "id": "8fdc6b86",
   "metadata": {},
   "outputs": [
    {
     "data": {
      "image/png": "[encoded data removed]",
      "text/plain": [
       "<Figure size 640x480 with 1 Axes>"
      ]
     },
     "metadata": {},
     "output_type": "display_data"
    }
   ],
   "source": [
    "for s in positions:\n",
    "    p = positions[s]\n",
    "    plt.plot(p[0],p[1],'o')\n",
    "    plt.text(p[0]+.01,p[1],s,horizontalalignment='left',verticalalignment='center')\n",
    "plt.gca().axis('off');"
   ]
  },
  {
   "cell_type": "code",
   "execution_count": 6,
   "id": "80579880",
   "metadata": {},
   "outputs": [],
   "source": [
    "# get distanc between cities\n",
    "distances = dict( ((s1,s2), distance.loc[s1, s2] ) for s1 in positions for s2 in positions if s1!=s2)"
   ]
  },
  {
   "cell_type": "code",
   "execution_count": 7,
   "id": "143f4655",
   "metadata": {},
   "outputs": [],
   "source": [
    "K = 4 #the number of car "
   ]
  },
  {
   "cell_type": "code",
   "execution_count": 1,
   "id": "4fce0ef2",
   "metadata": {},
   "outputs": [
    {
     "name": "stdout",
     "output_type": "stream",
     "text": [
      "Defaulting to user installation because normal site-packages is not writeable\n",
      "Note: you may need to restart the kernel to use updated packages.\n"
     ]
    },
    {
     "name": "stderr",
     "output_type": "stream",
     "text": [
      "WARNING: Retrying (Retry(total=4, connect=None, read=None, redirect=None, status=None)) after connection broken by 'ConnectTimeoutError(<pip._vendor.urllib3.connection.HTTPSConnection object at 0x000002292381EA60>, 'Connection to pypi.org timed out. (connect timeout=15)')': /simple/pulp/\n",
      "WARNING: Retrying (Retry(total=3, connect=None, read=None, redirect=None, status=None)) after connection broken by 'ReadTimeoutError(\"HTTPSConnectionPool(host='pypi.org', port=443): Read timed out. (read timeout=15)\")': /simple/pulp/\n",
      "WARNING: Retrying (Retry(total=2, connect=None, read=None, redirect=None, status=None)) after connection broken by 'ReadTimeoutError(\"HTTPSConnectionPool(host='pypi.org', port=443): Read timed out. (read timeout=15)\")': /simple/pulp/\n",
      "WARNING: Retrying (Retry(total=1, connect=None, read=None, redirect=None, status=None)) after connection broken by 'ReadTimeoutError(\"HTTPSConnectionPool(host='pypi.org', port=443): Read timed out. (read timeout=15)\")': /simple/pulp/\n",
      "WARNING: Retrying (Retry(total=0, connect=None, read=None, redirect=None, status=None)) after connection broken by 'ReadTimeoutError(\"HTTPSConnectionPool(host='pypi.org', port=443): Read timed out. (read timeout=15)\")': /simple/pulp/\n",
      "ERROR: Could not find a version that satisfies the requirement pulp (from versions: none)\n",
      "ERROR: No matching distribution found for pulp\n",
      "WARNING: There was an error checking the latest version of pip.\n"
     ]
    }
   ],
   "source": [
    "pip install pulp "
   ]
  },
  {
   "cell_type": "code",
   "execution_count": 9,
   "id": "b87197b2",
   "metadata": {},
   "outputs": [],
   "source": [
    "from PuLP import *\n",
    "#create the problme\n",
    "prob=LpProblem(\"vehicle\", LpMinimize)"
   ]
  },
  {
   "cell_type": "code",
   "execution_count": 3,
   "id": "0f325df2",
   "metadata": {},
   "outputs": [],
   "source": [
    "#indicator variable if site i is connected to site j in the tour\n",
    "x = LpVariable.dicts('x',distances, 0,1,LpBinary)\n",
    "#dummy vars to eliminate subtours\n",
    "u = LpVariable.dicts('u', sites, 0, len(sites)-1, LpInteger)"
   ]
  },
  {
   "cell_type": "code",
   "execution_count": null,
   "id": "f766d1dd",
   "metadata": {},
   "outputs": [],
   "source": [
    "#the objective\n",
    "cost = lpSum([x[(i,j)]*distances[(i,j)] for (i,j) in distances])\n",
    "prob+=cost"
   ]
  },
  {
   "cell_type": "code",
   "execution_count": null,
   "id": "8f1b8404",
   "metadata": {},
   "outputs": [],
   "source": [
    "#constraints\n",
    "for k in sites:\n",
    "    cap = 1 if k != 'Customer1' else K\n",
    "    #inbound connection\n",
    "    prob+= lpSum([ x[(i,k)] for i in sites if (i,k) in x]) ==cap\n",
    "    #outbound connection\n",
    "    prob+=lpSum([ x[(k,i)] for i in sites if (k,i) in x]) ==cap\n",
    "    \n",
    "#subtour elimination\n",
    "N=len(sites)/K\n",
    "for i in sites:\n",
    "    for j in sites:\n",
    "        if i != j and (i != 'Customer1' and j!= 'Customer1') and (i,j) in x:\n",
    "            prob += u[i] - u[j] <= (N)*(1-x[(i,j)]) - 1"
   ]
  },
  {
   "cell_type": "code",
   "execution_count": null,
   "id": "e0cb936b",
   "metadata": {},
   "outputs": [],
   "source": [
    "%time prob.solve()\n",
    "#prob.solve(GLPK_CMD(options=['--simplex']))\n",
    "print(LpStatus[prob.status])"
   ]
  },
  {
   "cell_type": "code",
   "execution_count": null,
   "id": "547a8cd9",
   "metadata": {},
   "outputs": [],
   "source": [
    "non_zero_edges = [ e for e in x if value(x[e]) != 0 ]\n",
    "\n",
    "def get_next_site(parent):\n",
    "    '''helper function to get the next edge'''\n",
    "    edges = [e for e in non_zero_edges if e[0]==parent]\n",
    "    for e in edges:\n",
    "        non_zero_edges.remove(e)\n",
    "    return edges"
   ]
  },
  {
   "cell_type": "code",
   "execution_count": null,
   "id": "a6013f79",
   "metadata": {},
   "outputs": [],
   "source": [
    "tours = get_next_site('Customer1')\n",
    "tours = [ [e] for e in tours ]\n",
    "\n",
    "for t in tours:\n",
    "    while t[-1][1] !='Customer1':\n",
    "        t.append(get_next_site(t[-1][1])[-1])"
   ]
  },
  {
   "cell_type": "code",
   "execution_count": null,
   "id": "42f4c5c5",
   "metadata": {},
   "outputs": [],
   "source": [
    "for t in tours:\n",
    "    print(' -> '.join([ a for a,b in t]+['Customer1']))"
   ]
  },
  {
   "cell_type": "code",
   "execution_count": null,
   "id": "26de2895",
   "metadata": {},
   "outputs": [],
   "source": [
    "#draw the tours\n",
    "colors = [np.random.rand(3) for i in range(len(tours))]\n",
    "for t,c in zip(tours,colors):\n",
    "    for a,b in t:\n",
    "        p1,p2 = positions[a], positions[b]\n",
    "        plt.plot([p1[0],p2[0]],[p1[1],p2[1]], color=c)\n",
    "\n",
    "#draw the map again\n",
    "for s in positions:\n",
    "    p = positions[s]\n",
    "    plt.plot(p[0],p[1],'o')\n",
    "    plt.text(p[0]+.01,p[1],s,horizontalalignment='left',verticalalignment='center')\n",
    "    \n",
    "plt.title('%d '%K + 'people' if K > 1 else 'person')\n",
    "plt.xlabel('latitude')\n",
    "plt.ylabel('longitude')\n",
    "# plt.gca().axis('off')\n",
    "plt.show()"
   ]
  },
  {
   "cell_type": "code",
   "execution_count": null,
   "id": "84454354",
   "metadata": {},
   "outputs": [],
   "source": [
    "print('Total distance:', value(prob.objective), '(km)')"
   ]
  }
 ],
 "metadata": {
  "kernelspec": {
   "display_name": "Python 3 (ipykernel)",
   "language": "python",
   "name": "python3"
  },
  "language_info": {
   "codemirror_mode": {
    "name": "ipython",
    "version": 3
   },
   "file_extension": ".py",
   "mimetype": "text/x-python",
   "name": "python",
   "nbconvert_exporter": "python",
   "pygments_lexer": "ipython3",
   "version": "3.8.1"
  }
 },
 "nbformat": 4,
 "nbformat_minor": 5
}
